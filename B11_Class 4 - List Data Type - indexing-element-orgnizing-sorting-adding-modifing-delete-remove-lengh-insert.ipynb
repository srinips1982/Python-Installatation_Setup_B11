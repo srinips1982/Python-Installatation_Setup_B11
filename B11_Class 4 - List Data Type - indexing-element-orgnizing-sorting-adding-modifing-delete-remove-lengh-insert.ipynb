{
 "cells": [
  {
   "cell_type": "code",
   "execution_count": 1,
   "metadata": {},
   "outputs": [
    {
     "name": "stdout",
     "output_type": "stream",
     "text": [
      "['srinivas', 'rama', 'hari', 'geetha']\n"
     ]
    }
   ],
   "source": [
    "#Introduction to List data type\n",
    "#List is mutable data type\n",
    "#how to declare a list ---> []\n",
    "\n",
    "students=['srinivas','rama','hari','geetha']\n",
    "print(students)"
   ]
  },
  {
   "cell_type": "code",
   "execution_count": 3,
   "metadata": {},
   "outputs": [
    {
     "name": "stdout",
     "output_type": "stream",
     "text": [
      "hari\n"
     ]
    }
   ],
   "source": [
    "#indexing ---> indexing always starts with 0,1,2,3,4....\n",
    "#indexing method will be used to specify a element in the list\n",
    "#requirement ---> identify hari from the list\n",
    "#srinivas - 0; rama - 1, hari - 2, and geetha - 3\n",
    "print(students[2])"
   ]
  },
  {
   "cell_type": "code",
   "execution_count": 4,
   "metadata": {},
   "outputs": [
    {
     "name": "stdout",
     "output_type": "stream",
     "text": [
      "geetha\n"
     ]
    }
   ],
   "source": [
    "print(students [3])"
   ]
  },
  {
   "cell_type": "code",
   "execution_count": 16,
   "metadata": {},
   "outputs": [
    {
     "name": "stdout",
     "output_type": "stream",
     "text": [
      "m\n"
     ]
    }
   ],
   "source": [
    "print(students[1][2])---> Need your help to understand, why I'm getting m. Requirement was 2 names using indexing?"
   ]
  },
  {
   "cell_type": "code",
   "execution_count": 18,
   "metadata": {},
   "outputs": [
    {
     "name": "stdout",
     "output_type": "stream",
     "text": [
      "Geetha\n"
     ]
    }
   ],
   "source": [
    "# How to add a component \n",
    "print(students[3].title())"
   ]
  },
  {
   "cell_type": "code",
   "execution_count": 19,
   "metadata": {},
   "outputs": [
    {
     "name": "stdout",
     "output_type": "stream",
     "text": [
      "['srinivas', 'rama', 'hari', 'geetha']\n"
     ]
    }
   ],
   "source": [
    "print(students)"
   ]
  },
  {
   "cell_type": "code",
   "execution_count": 22,
   "metadata": {},
   "outputs": [
    {
     "name": "stdout",
     "output_type": "stream",
     "text": [
      "keep up the good work, Geetha\n"
     ]
    }
   ],
   "source": [
    "#Requirement is to give a message to a student\n",
    "message=f\"keep up the good work, {students[3].title()}\"\n",
    "print(message)"
   ]
  },
  {
   "cell_type": "code",
   "execution_count": 23,
   "metadata": {},
   "outputs": [
    {
     "name": "stdout",
     "output_type": "stream",
     "text": [
      "Keep Up The Good Work, Geetha\n"
     ]
    }
   ],
   "source": [
    "#With title case\n",
    "print(message.title())"
   ]
  },
  {
   "cell_type": "code",
   "execution_count": 24,
   "metadata": {},
   "outputs": [
    {
     "name": "stdout",
     "output_type": "stream",
     "text": [
      "KEEP UP THE GOOD WORK, GEETHA\n"
     ]
    }
   ],
   "source": [
    "# with upper case\n",
    "print(message.upper())"
   ]
  },
  {
   "cell_type": "code",
   "execution_count": 25,
   "metadata": {},
   "outputs": [
    {
     "name": "stdout",
     "output_type": "stream",
     "text": [
      "keep up the good work, geetha\n"
     ]
    }
   ],
   "source": [
    "#with smaller case\n",
    "print(message.lower())"
   ]
  },
  {
   "cell_type": "code",
   "execution_count": 26,
   "metadata": {},
   "outputs": [
    {
     "name": "stdout",
     "output_type": "stream",
     "text": [
      "['srinivas', 'rama', 'hari', 'geetha']\n"
     ]
    }
   ],
   "source": [
    "print(students)"
   ]
  },
  {
   "cell_type": "code",
   "execution_count": 29,
   "metadata": {},
   "outputs": [
    {
     "name": "stdout",
     "output_type": "stream",
     "text": [
      "['srinivas', 'rama', 'hari', 'geetha', 'giri']\n"
     ]
    }
   ],
   "source": [
    "#adding an element\n",
    "#Elements always starts with 1,2,3,4,....\n",
    "#requirement is to add giri into the list\n",
    "students.append('giri')\n",
    "print(students)"
   ]
  },
  {
   "cell_type": "code",
   "execution_count": 31,
   "metadata": {},
   "outputs": [
    {
     "name": "stdout",
     "output_type": "stream",
     "text": [
      "['srinivas', 'rama', 'hari', 'geetha', 'giri', 'bheema']\n"
     ]
    }
   ],
   "source": [
    "students.append('bheema')\n",
    "print(students)"
   ]
  },
  {
   "cell_type": "code",
   "execution_count": 33,
   "metadata": {},
   "outputs": [
    {
     "name": "stdout",
     "output_type": "stream",
     "text": [
      "['srinivas', 'rama', 'bhoomi', 'giri', 'hari', 'geetha', 'giri', 'bheema']\n"
     ]
    }
   ],
   "source": [
    "#requirement is the add bhoomi in 2nd index position\n",
    "students.insert(2,'bhoomi')\n",
    "print(students)\n"
   ]
  },
  {
   "cell_type": "code",
   "execution_count": 34,
   "metadata": {},
   "outputs": [
    {
     "name": "stdout",
     "output_type": "stream",
     "text": [
      "['srinivas', 'rama', 'bhoomi', 'giri', 'hari', 'geetha', 'giri', 'bheema']\n"
     ]
    }
   ],
   "source": [
    "print(students)"
   ]
  },
  {
   "cell_type": "code",
   "execution_count": 35,
   "metadata": {},
   "outputs": [
    {
     "name": "stdout",
     "output_type": "stream",
     "text": [
      "bhoomi\n"
     ]
    }
   ],
   "source": [
    "print(students[2])"
   ]
  },
  {
   "cell_type": "code",
   "execution_count": 36,
   "metadata": {},
   "outputs": [
    {
     "name": "stdout",
     "output_type": "stream",
     "text": [
      "geetha\n"
     ]
    }
   ],
   "source": [
    "print(students[5])"
   ]
  },
  {
   "cell_type": "code",
   "execution_count": 42,
   "metadata": {},
   "outputs": [
    {
     "name": "stdout",
     "output_type": "stream",
     "text": [
      "['srinivas', 'raghu', 'rama', 'bhoomi', 'giri', 'hari', 'geetha', 'giri', 'bheema']\n"
     ]
    }
   ],
   "source": [
    "students.insert(1, 'raghu')\n",
    "print(students)"
   ]
  },
  {
   "cell_type": "code",
   "execution_count": 44,
   "metadata": {},
   "outputs": [
    {
     "name": "stdout",
     "output_type": "stream",
     "text": [
      "['srinivas', 'akshay', 'rama', 'bhoomi', 'giri', 'hari', 'geetha', 'giri', 'bheema']\n"
     ]
    }
   ],
   "source": [
    "#requirement is to replace rama with askhay\n",
    "\n",
    "students[1]= 'akshay'\n",
    "print(students)"
   ]
  },
  {
   "cell_type": "code",
   "execution_count": 48,
   "metadata": {},
   "outputs": [
    {
     "name": "stdout",
     "output_type": "stream",
     "text": [
      "['srinivas', 'akshay', 'rama', 'bhoomi', 'giri', 'radha', 'geetha', 'giri', 'bheema']\n"
     ]
    }
   ],
   "source": [
    "#requirement is to replace giri with radha\n",
    "students[5]= 'radha'\n",
    "print(students)"
   ]
  },
  {
   "cell_type": "code",
   "execution_count": 49,
   "metadata": {},
   "outputs": [
    {
     "name": "stdout",
     "output_type": "stream",
     "text": [
      "['srinivas', 'akshay', 'rama', 'bhoomi', 'giri', 'radha', 'geetha', 'giri', 'bheema']\n"
     ]
    }
   ],
   "source": [
    "#requirement is to delete giri from the list\n",
    "print(students)"
   ]
  },
  {
   "cell_type": "code",
   "execution_count": 53,
   "metadata": {},
   "outputs": [
    {
     "name": "stdout",
     "output_type": "stream",
     "text": [
      "['srinivas', 'akshay', 'rama', 'bhoomi', 'giri', 'geetha', 'giri', 'bheema']\n"
     ]
    },
    {
     "data": {
      "text/plain": [
       "'akshay'"
      ]
     },
     "execution_count": 53,
     "metadata": {},
     "output_type": "execute_result"
    }
   ],
   "source": [
    "#Pop() - Deflaut last element will be deleted\n",
    "#Pop(1) - Indexing - it will start from 0,1,2... likewise it will delete the element\n",
    "\n",
    "print(students)\n",
    "students.pop(1)"
   ]
  },
  {
   "cell_type": "code",
   "execution_count": 54,
   "metadata": {},
   "outputs": [
    {
     "data": {
      "text/plain": [
       "'bheema'"
      ]
     },
     "execution_count": 54,
     "metadata": {},
     "output_type": "execute_result"
    }
   ],
   "source": [
    "students.pop()"
   ]
  },
  {
   "cell_type": "code",
   "execution_count": 55,
   "metadata": {},
   "outputs": [
    {
     "data": {
      "text/plain": [
       "'srinivas'"
      ]
     },
     "execution_count": 55,
     "metadata": {},
     "output_type": "execute_result"
    }
   ],
   "source": [
    "students.pop(0)"
   ]
  },
  {
   "cell_type": "code",
   "execution_count": 56,
   "metadata": {},
   "outputs": [
    {
     "name": "stdout",
     "output_type": "stream",
     "text": [
      "['rama', 'bhoomi', 'giri', 'geetha', 'giri']\n"
     ]
    }
   ],
   "source": [
    "print(students)"
   ]
  },
  {
   "cell_type": "code",
   "execution_count": 61,
   "metadata": {},
   "outputs": [
    {
     "name": "stdout",
     "output_type": "stream",
     "text": [
      "['akshay', 'rama', 'akshay', 'bhoomi', 'giri', 'geetha', 'giri']\n"
     ]
    }
   ],
   "source": [
    "students.insert(0,'akshay')\n",
    "print(students)"
   ]
  },
  {
   "cell_type": "code",
   "execution_count": 62,
   "metadata": {},
   "outputs": [],
   "source": [
    "students.insert(4,'divya')"
   ]
  },
  {
   "cell_type": "code",
   "execution_count": 63,
   "metadata": {},
   "outputs": [
    {
     "name": "stdout",
     "output_type": "stream",
     "text": [
      "['akshay', 'rama', 'akshay', 'bhoomi', 'divya', 'giri', 'geetha', 'giri']\n"
     ]
    }
   ],
   "source": [
    "print(students)"
   ]
  },
  {
   "cell_type": "code",
   "execution_count": 64,
   "metadata": {},
   "outputs": [
    {
     "data": {
      "text/plain": [
       "'giri'"
      ]
     },
     "execution_count": 64,
     "metadata": {},
     "output_type": "execute_result"
    }
   ],
   "source": [
    "students.pop()"
   ]
  },
  {
   "cell_type": "code",
   "execution_count": 65,
   "metadata": {},
   "outputs": [
    {
     "name": "stdout",
     "output_type": "stream",
     "text": [
      "['akshay', 'rama', 'akshay', 'bhoomi', 'divya', 'giri', 'geetha']\n"
     ]
    }
   ],
   "source": [
    "print(students)"
   ]
  },
  {
   "cell_type": "code",
   "execution_count": 66,
   "metadata": {},
   "outputs": [
    {
     "name": "stdout",
     "output_type": "stream",
     "text": [
      "['akshay', 'rama', 'akshay', 'bhoomi', 'divya', 'giri', 'geetha', 'jaya']\n"
     ]
    }
   ],
   "source": [
    "students.insert(7,'jaya')\n",
    "print(students)"
   ]
  },
  {
   "cell_type": "code",
   "execution_count": 67,
   "metadata": {},
   "outputs": [
    {
     "name": "stdout",
     "output_type": "stream",
     "text": [
      "['akshay', 'rama', 'akshay', 'bhoomi', 'divya', 'giri', 'geetha']\n"
     ]
    }
   ],
   "source": [
    "students.remove('jaya')\n",
    "print(students)"
   ]
  },
  {
   "cell_type": "code",
   "execution_count": 68,
   "metadata": {},
   "outputs": [
    {
     "name": "stdout",
     "output_type": "stream",
     "text": [
      "['akshay', 'rama', 'akshay', 'bhoomi', 'divya', 'giri', 'geetha']\n"
     ]
    }
   ],
   "source": [
    "#requirement is to organizing the list by alphabetic order\n",
    "print(students)"
   ]
  },
  {
   "cell_type": "code",
   "execution_count": 69,
   "metadata": {},
   "outputs": [
    {
     "name": "stdout",
     "output_type": "stream",
     "text": [
      "['akshay', 'akshay', 'bhoomi', 'divya', 'geetha', 'giri', 'rama']\n"
     ]
    }
   ],
   "source": [
    "students.sort()\n",
    "print(students)"
   ]
  },
  {
   "cell_type": "code",
   "execution_count": 70,
   "metadata": {},
   "outputs": [
    {
     "name": "stdout",
     "output_type": "stream",
     "text": [
      "['akshay', 'bhoomi', 'divya', 'geetha', 'giri', 'rama']\n"
     ]
    }
   ],
   "source": [
    "# requirement is to remove a element from the list\n",
    "students.remove('akshay')\n",
    "print(students)"
   ]
  },
  {
   "cell_type": "code",
   "execution_count": 72,
   "metadata": {},
   "outputs": [
    {
     "name": "stdout",
     "output_type": "stream",
     "text": [
      "['akshay', 'bhoomi', 'divya', 'geetha', 'giri', 'rama']\n"
     ]
    }
   ],
   "source": [
    "print(sorted(students))"
   ]
  },
  {
   "cell_type": "code",
   "execution_count": 75,
   "metadata": {},
   "outputs": [],
   "source": [
    "# requirement is to sort by reverse order --> Z to A\n",
    "students.reverse()"
   ]
  },
  {
   "cell_type": "code",
   "execution_count": 74,
   "metadata": {},
   "outputs": [
    {
     "name": "stdout",
     "output_type": "stream",
     "text": [
      "['rama', 'giri', 'geetha', 'divya', 'bhoomi', 'akshay']\n"
     ]
    }
   ],
   "source": [
    "print(students)"
   ]
  },
  {
   "cell_type": "code",
   "execution_count": 77,
   "metadata": {},
   "outputs": [
    {
     "data": {
      "text/plain": [
       "6"
      ]
     },
     "execution_count": 77,
     "metadata": {},
     "output_type": "execute_result"
    }
   ],
   "source": [
    "#how to find the lenght of the list\n",
    "len(students)"
   ]
  },
  {
   "cell_type": "code",
   "execution_count": null,
   "metadata": {},
   "outputs": [],
   "source": []
  }
 ],
 "metadata": {
  "kernelspec": {
   "display_name": "Python 3",
   "language": "python",
   "name": "python3"
  },
  "language_info": {
   "codemirror_mode": {
    "name": "ipython",
    "version": 3
   },
   "file_extension": ".py",
   "mimetype": "text/x-python",
   "name": "python",
   "nbconvert_exporter": "python",
   "pygments_lexer": "ipython3",
   "version": "3.7.4"
  }
 },
 "nbformat": 4,
 "nbformat_minor": 2
}
